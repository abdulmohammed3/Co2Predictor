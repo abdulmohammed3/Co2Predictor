{
  "cells": [
    {
      "cell_type": "markdown",
      "id": "51a018c5",
      "metadata": {
        "id": "51a018c5"
      },
      "source": [
        "# Special Topics CSC4001 AI/ML Project\n",
        "## The goal of this project is to build a predictor too look at CO2 emmisions in North America\n",
        "\n",
        "\n",
        "### By Abdul Mohammed\n",
        "\n",
        "\n"
      ]
    },
    {
      "cell_type": "code",
      "execution_count": null,
      "id": "c60e02f9",
      "metadata": {
        "id": "c60e02f9"
      },
      "outputs": [],
      "source": [
        "#Libraries"
      ]
    },
    {
      "cell_type": "code",
      "execution_count": null,
      "id": "f4eef959",
      "metadata": {
        "collapsed": true,
        "colab": {
          "base_uri": "https://localhost:8080/"
        },
        "id": "f4eef959",
        "outputId": "a5284fe2-d52f-4638-925d-bd1156b41e69"
      },
      "outputs": [
        {
          "output_type": "stream",
          "name": "stdout",
          "text": [
            "Requirement already satisfied: scikit-learn in /usr/local/lib/python3.7/dist-packages (1.0.2)\n",
            "Requirement already satisfied: threadpoolctl>=2.0.0 in /usr/local/lib/python3.7/dist-packages (from scikit-learn) (3.1.0)\n",
            "Requirement already satisfied: joblib>=0.11 in /usr/local/lib/python3.7/dist-packages (from scikit-learn) (1.1.0)\n",
            "Requirement already satisfied: numpy>=1.14.6 in /usr/local/lib/python3.7/dist-packages (from scikit-learn) (1.21.6)\n",
            "Requirement already satisfied: scipy>=1.1.0 in /usr/local/lib/python3.7/dist-packages (from scikit-learn) (1.4.1)\n"
          ]
        }
      ],
      "source": [
        "pip install scikit-learn"
      ]
    },
    {
      "cell_type": "code",
      "execution_count": null,
      "id": "d56e6bc9",
      "metadata": {
        "collapsed": true,
        "colab": {
          "base_uri": "https://localhost:8080/"
        },
        "id": "d56e6bc9",
        "outputId": "a5949729-07dc-4085-f640-136e4afb7a35"
      },
      "outputs": [
        {
          "output_type": "stream",
          "name": "stdout",
          "text": [
            "Requirement already satisfied: pandas in /usr/local/lib/python3.7/dist-packages (1.3.5)\n",
            "Requirement already satisfied: pytz>=2017.3 in /usr/local/lib/python3.7/dist-packages (from pandas) (2022.1)\n",
            "Requirement already satisfied: numpy>=1.17.3 in /usr/local/lib/python3.7/dist-packages (from pandas) (1.21.6)\n",
            "Requirement already satisfied: python-dateutil>=2.7.3 in /usr/local/lib/python3.7/dist-packages (from pandas) (2.8.2)\n",
            "Requirement already satisfied: six>=1.5 in /usr/local/lib/python3.7/dist-packages (from python-dateutil>=2.7.3->pandas) (1.15.0)\n"
          ]
        }
      ],
      "source": [
        "pip install --upgrade pandas"
      ]
    },
    {
      "cell_type": "code",
      "execution_count": null,
      "id": "bbfe85cc",
      "metadata": {
        "collapsed": true,
        "colab": {
          "base_uri": "https://localhost:8080/"
        },
        "id": "bbfe85cc",
        "outputId": "ed1f633f-17ec-4b21-bdee-ed1b1304c248"
      },
      "outputs": [
        {
          "output_type": "stream",
          "name": "stdout",
          "text": [
            "Requirement already satisfied: openpyxl in /usr/local/lib/python3.7/dist-packages (3.0.9)\n",
            "Requirement already satisfied: et-xmlfile in /usr/local/lib/python3.7/dist-packages (from openpyxl) (1.1.0)\n"
          ]
        }
      ],
      "source": [
        "pip install openpyxl"
      ]
    },
    {
      "cell_type": "markdown",
      "id": "5646416b",
      "metadata": {
        "id": "5646416b"
      },
      "source": [
        "## Importing important ML libraries"
      ]
    },
    {
      "cell_type": "code",
      "execution_count": 2,
      "id": "f4120216",
      "metadata": {
        "id": "f4120216"
      },
      "outputs": [],
      "source": [
        "import numpy as np\n",
        "import pandas as pd\n",
        "import matplotlib.pyplot as plt\n",
        "from sklearn.linear_model import LinearRegression\n",
        "from sklearn.model_selection import train_test_split\n",
        "from sklearn.metrics import mean_squared_error, r2_score\n",
        "import warnings\n",
        "warnings.filterwarnings(\"ignore\")\n",
        "import pandas.util.testing as ts"
      ]
    },
    {
      "cell_type": "code",
      "source": [
        "import io\n",
        "from google.colab import files"
      ],
      "metadata": {
        "id": "GPynn3ycOK6F"
      },
      "id": "GPynn3ycOK6F",
      "execution_count": 3,
      "outputs": []
    },
    {
      "cell_type": "markdown",
      "id": "b0aea6e8",
      "metadata": {
        "id": "b0aea6e8"
      },
      "source": [
        "# import owid-co2-data \n",
        "## this will be used to make our predicitions"
      ]
    },
    {
      "cell_type": "code",
      "source": [
        "uploaded = files.upload()"
      ],
      "metadata": {
        "colab": {
          "resources": {
            "http://localhost:8080/nbextensions/google.colab/files.js": {
              "data": "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",
              "ok": true,
              "headers": [
                [
                  "content-type",
                  "application/javascript"
                ]
              ],
              "status": 200,
              "status_text": ""
            }
          },
          "base_uri": "https://localhost:8080/",
          "height": 73
        },
        "id": "tos43zHzONh3",
        "outputId": "1eb307b7-782a-4f71-96b1-c29bdaa31967"
      },
      "id": "tos43zHzONh3",
      "execution_count": 4,
      "outputs": [
        {
          "output_type": "display_data",
          "data": {
            "text/plain": [
              "<IPython.core.display.HTML object>"
            ],
            "text/html": [
              "\n",
              "     <input type=\"file\" id=\"files-f7b524a8-153c-4723-9c5a-c297e5ca7bdd\" name=\"files[]\" multiple disabled\n",
              "        style=\"border:none\" />\n",
              "     <output id=\"result-f7b524a8-153c-4723-9c5a-c297e5ca7bdd\">\n",
              "      Upload widget is only available when the cell has been executed in the\n",
              "      current browser session. Please rerun this cell to enable.\n",
              "      </output>\n",
              "      <script src=\"/nbextensions/google.colab/files.js\"></script> "
            ]
          },
          "metadata": {}
        },
        {
          "output_type": "stream",
          "name": "stdout",
          "text": [
            "Saving owid-co2-data.xlsx to owid-co2-data.xlsx\n"
          ]
        }
      ]
    },
    {
      "cell_type": "code",
      "execution_count": 5,
      "id": "ba1cda5b",
      "metadata": {
        "id": "ba1cda5b"
      },
      "outputs": [],
      "source": [
        "co2_data = pd.read_excel(io.BytesIO(uploaded['owid-co2-data.xlsx']))     "
      ]
    },
    {
      "cell_type": "markdown",
      "id": "db6f8893",
      "metadata": {
        "id": "db6f8893"
      },
      "source": [
        "## Data Exploration"
      ]
    },
    {
      "cell_type": "code",
      "execution_count": 6,
      "id": "0d963613",
      "metadata": {
        "id": "0d963613",
        "colab": {
          "base_uri": "https://localhost:8080/",
          "height": 456
        },
        "outputId": "37d8e4f8-5e5b-4b00-ea42-693cdb4ad603"
      },
      "outputs": [
        {
          "output_type": "execute_result",
          "data": {
            "text/plain": [
              "  iso_code      country  year    co2  co2_per_capita  trade_co2  cement_co2  \\\n",
              "0      AFG  Afghanistan  1949  0.015           0.002        NaN         NaN   \n",
              "1      AFG  Afghanistan  1950  0.084           0.011        NaN         NaN   \n",
              "2      AFG  Afghanistan  1951  0.092           0.012        NaN         NaN   \n",
              "3      AFG  Afghanistan  1952  0.092           0.012        NaN         NaN   \n",
              "4      AFG  Afghanistan  1953  0.106           0.013        NaN         NaN   \n",
              "5      AFG  Afghanistan  1954  0.106           0.013        NaN         NaN   \n",
              "6      AFG  Afghanistan  1955  0.154           0.019        NaN         NaN   \n",
              "7      AFG  Afghanistan  1956  0.183           0.022        NaN         NaN   \n",
              "8      AFG  Afghanistan  1957  0.293           0.034        NaN         NaN   \n",
              "9      AFG  Afghanistan  1958  0.330           0.038        NaN         NaN   \n",
              "\n",
              "   cement_co2_per_capita  coal_co2  coal_co2_per_capita  ...  \\\n",
              "0                    NaN     0.015                0.002  ...   \n",
              "1                    NaN     0.021                0.003  ...   \n",
              "2                    NaN     0.026                0.003  ...   \n",
              "3                    NaN     0.032                0.004  ...   \n",
              "4                    NaN     0.038                0.005  ...   \n",
              "5                    NaN     0.043                0.005  ...   \n",
              "6                    NaN     0.062                0.008  ...   \n",
              "7                    NaN     0.062                0.007  ...   \n",
              "8                    NaN     0.077                0.009  ...   \n",
              "9                    NaN     0.092                0.011  ...   \n",
              "\n",
              "   ghg_excluding_lucf_per_capita  methane  methane_per_capita  nitrous_oxide  \\\n",
              "0                            NaN      NaN                 NaN            NaN   \n",
              "1                            NaN      NaN                 NaN            NaN   \n",
              "2                            NaN      NaN                 NaN            NaN   \n",
              "3                            NaN      NaN                 NaN            NaN   \n",
              "4                            NaN      NaN                 NaN            NaN   \n",
              "5                            NaN      NaN                 NaN            NaN   \n",
              "6                            NaN      NaN                 NaN            NaN   \n",
              "7                            NaN      NaN                 NaN            NaN   \n",
              "8                            NaN      NaN                 NaN            NaN   \n",
              "9                            NaN      NaN                 NaN            NaN   \n",
              "\n",
              "   nitrous_oxide_per_capita  population           gdp  \\\n",
              "0                       NaN   7624058.0           NaN   \n",
              "1                       NaN   7752117.0  9.421400e+09   \n",
              "2                       NaN   7840151.0  9.692280e+09   \n",
              "3                       NaN   7935996.0  1.001733e+10   \n",
              "4                       NaN   8039684.0  1.063052e+10   \n",
              "5                       NaN   8151316.0  1.086636e+10   \n",
              "6                       NaN   8270992.0  1.107819e+10   \n",
              "7                       NaN   8398873.0  1.158124e+10   \n",
              "8                       NaN   8535157.0  1.157897e+10   \n",
              "9                       NaN   8680097.0  1.223884e+10   \n",
              "\n",
              "   primary_energy_consumption  energy_per_capita  energy_per_gdp  \n",
              "0                         NaN                NaN             NaN  \n",
              "1                         NaN                NaN             NaN  \n",
              "2                         NaN                NaN             NaN  \n",
              "3                         NaN                NaN             NaN  \n",
              "4                         NaN                NaN             NaN  \n",
              "5                         NaN                NaN             NaN  \n",
              "6                         NaN                NaN             NaN  \n",
              "7                         NaN                NaN             NaN  \n",
              "8                         NaN                NaN             NaN  \n",
              "9                         NaN                NaN             NaN  \n",
              "\n",
              "[10 rows x 60 columns]"
            ],
            "text/html": [
              "\n",
              "  <div id=\"df-acca708c-d4f9-4ffe-8b3a-e74035ad537c\">\n",
              "    <div class=\"colab-df-container\">\n",
              "      <div>\n",
              "<style scoped>\n",
              "    .dataframe tbody tr th:only-of-type {\n",
              "        vertical-align: middle;\n",
              "    }\n",
              "\n",
              "    .dataframe tbody tr th {\n",
              "        vertical-align: top;\n",
              "    }\n",
              "\n",
              "    .dataframe thead th {\n",
              "        text-align: right;\n",
              "    }\n",
              "</style>\n",
              "<table border=\"1\" class=\"dataframe\">\n",
              "  <thead>\n",
              "    <tr style=\"text-align: right;\">\n",
              "      <th></th>\n",
              "      <th>iso_code</th>\n",
              "      <th>country</th>\n",
              "      <th>year</th>\n",
              "      <th>co2</th>\n",
              "      <th>co2_per_capita</th>\n",
              "      <th>trade_co2</th>\n",
              "      <th>cement_co2</th>\n",
              "      <th>cement_co2_per_capita</th>\n",
              "      <th>coal_co2</th>\n",
              "      <th>coal_co2_per_capita</th>\n",
              "      <th>...</th>\n",
              "      <th>ghg_excluding_lucf_per_capita</th>\n",
              "      <th>methane</th>\n",
              "      <th>methane_per_capita</th>\n",
              "      <th>nitrous_oxide</th>\n",
              "      <th>nitrous_oxide_per_capita</th>\n",
              "      <th>population</th>\n",
              "      <th>gdp</th>\n",
              "      <th>primary_energy_consumption</th>\n",
              "      <th>energy_per_capita</th>\n",
              "      <th>energy_per_gdp</th>\n",
              "    </tr>\n",
              "  </thead>\n",
              "  <tbody>\n",
              "    <tr>\n",
              "      <th>0</th>\n",
              "      <td>AFG</td>\n",
              "      <td>Afghanistan</td>\n",
              "      <td>1949</td>\n",
              "      <td>0.015</td>\n",
              "      <td>0.002</td>\n",
              "      <td>NaN</td>\n",
              "      <td>NaN</td>\n",
              "      <td>NaN</td>\n",
              "      <td>0.015</td>\n",
              "      <td>0.002</td>\n",
              "      <td>...</td>\n",
              "      <td>NaN</td>\n",
              "      <td>NaN</td>\n",
              "      <td>NaN</td>\n",
              "      <td>NaN</td>\n",
              "      <td>NaN</td>\n",
              "      <td>7624058.0</td>\n",
              "      <td>NaN</td>\n",
              "      <td>NaN</td>\n",
              "      <td>NaN</td>\n",
              "      <td>NaN</td>\n",
              "    </tr>\n",
              "    <tr>\n",
              "      <th>1</th>\n",
              "      <td>AFG</td>\n",
              "      <td>Afghanistan</td>\n",
              "      <td>1950</td>\n",
              "      <td>0.084</td>\n",
              "      <td>0.011</td>\n",
              "      <td>NaN</td>\n",
              "      <td>NaN</td>\n",
              "      <td>NaN</td>\n",
              "      <td>0.021</td>\n",
              "      <td>0.003</td>\n",
              "      <td>...</td>\n",
              "      <td>NaN</td>\n",
              "      <td>NaN</td>\n",
              "      <td>NaN</td>\n",
              "      <td>NaN</td>\n",
              "      <td>NaN</td>\n",
              "      <td>7752117.0</td>\n",
              "      <td>9.421400e+09</td>\n",
              "      <td>NaN</td>\n",
              "      <td>NaN</td>\n",
              "      <td>NaN</td>\n",
              "    </tr>\n",
              "    <tr>\n",
              "      <th>2</th>\n",
              "      <td>AFG</td>\n",
              "      <td>Afghanistan</td>\n",
              "      <td>1951</td>\n",
              "      <td>0.092</td>\n",
              "      <td>0.012</td>\n",
              "      <td>NaN</td>\n",
              "      <td>NaN</td>\n",
              "      <td>NaN</td>\n",
              "      <td>0.026</td>\n",
              "      <td>0.003</td>\n",
              "      <td>...</td>\n",
              "      <td>NaN</td>\n",
              "      <td>NaN</td>\n",
              "      <td>NaN</td>\n",
              "      <td>NaN</td>\n",
              "      <td>NaN</td>\n",
              "      <td>7840151.0</td>\n",
              "      <td>9.692280e+09</td>\n",
              "      <td>NaN</td>\n",
              "      <td>NaN</td>\n",
              "      <td>NaN</td>\n",
              "    </tr>\n",
              "    <tr>\n",
              "      <th>3</th>\n",
              "      <td>AFG</td>\n",
              "      <td>Afghanistan</td>\n",
              "      <td>1952</td>\n",
              "      <td>0.092</td>\n",
              "      <td>0.012</td>\n",
              "      <td>NaN</td>\n",
              "      <td>NaN</td>\n",
              "      <td>NaN</td>\n",
              "      <td>0.032</td>\n",
              "      <td>0.004</td>\n",
              "      <td>...</td>\n",
              "      <td>NaN</td>\n",
              "      <td>NaN</td>\n",
              "      <td>NaN</td>\n",
              "      <td>NaN</td>\n",
              "      <td>NaN</td>\n",
              "      <td>7935996.0</td>\n",
              "      <td>1.001733e+10</td>\n",
              "      <td>NaN</td>\n",
              "      <td>NaN</td>\n",
              "      <td>NaN</td>\n",
              "    </tr>\n",
              "    <tr>\n",
              "      <th>4</th>\n",
              "      <td>AFG</td>\n",
              "      <td>Afghanistan</td>\n",
              "      <td>1953</td>\n",
              "      <td>0.106</td>\n",
              "      <td>0.013</td>\n",
              "      <td>NaN</td>\n",
              "      <td>NaN</td>\n",
              "      <td>NaN</td>\n",
              "      <td>0.038</td>\n",
              "      <td>0.005</td>\n",
              "      <td>...</td>\n",
              "      <td>NaN</td>\n",
              "      <td>NaN</td>\n",
              "      <td>NaN</td>\n",
              "      <td>NaN</td>\n",
              "      <td>NaN</td>\n",
              "      <td>8039684.0</td>\n",
              "      <td>1.063052e+10</td>\n",
              "      <td>NaN</td>\n",
              "      <td>NaN</td>\n",
              "      <td>NaN</td>\n",
              "    </tr>\n",
              "    <tr>\n",
              "      <th>5</th>\n",
              "      <td>AFG</td>\n",
              "      <td>Afghanistan</td>\n",
              "      <td>1954</td>\n",
              "      <td>0.106</td>\n",
              "      <td>0.013</td>\n",
              "      <td>NaN</td>\n",
              "      <td>NaN</td>\n",
              "      <td>NaN</td>\n",
              "      <td>0.043</td>\n",
              "      <td>0.005</td>\n",
              "      <td>...</td>\n",
              "      <td>NaN</td>\n",
              "      <td>NaN</td>\n",
              "      <td>NaN</td>\n",
              "      <td>NaN</td>\n",
              "      <td>NaN</td>\n",
              "      <td>8151316.0</td>\n",
              "      <td>1.086636e+10</td>\n",
              "      <td>NaN</td>\n",
              "      <td>NaN</td>\n",
              "      <td>NaN</td>\n",
              "    </tr>\n",
              "    <tr>\n",
              "      <th>6</th>\n",
              "      <td>AFG</td>\n",
              "      <td>Afghanistan</td>\n",
              "      <td>1955</td>\n",
              "      <td>0.154</td>\n",
              "      <td>0.019</td>\n",
              "      <td>NaN</td>\n",
              "      <td>NaN</td>\n",
              "      <td>NaN</td>\n",
              "      <td>0.062</td>\n",
              "      <td>0.008</td>\n",
              "      <td>...</td>\n",
              "      <td>NaN</td>\n",
              "      <td>NaN</td>\n",
              "      <td>NaN</td>\n",
              "      <td>NaN</td>\n",
              "      <td>NaN</td>\n",
              "      <td>8270992.0</td>\n",
              "      <td>1.107819e+10</td>\n",
              "      <td>NaN</td>\n",
              "      <td>NaN</td>\n",
              "      <td>NaN</td>\n",
              "    </tr>\n",
              "    <tr>\n",
              "      <th>7</th>\n",
              "      <td>AFG</td>\n",
              "      <td>Afghanistan</td>\n",
              "      <td>1956</td>\n",
              "      <td>0.183</td>\n",
              "      <td>0.022</td>\n",
              "      <td>NaN</td>\n",
              "      <td>NaN</td>\n",
              "      <td>NaN</td>\n",
              "      <td>0.062</td>\n",
              "      <td>0.007</td>\n",
              "      <td>...</td>\n",
              "      <td>NaN</td>\n",
              "      <td>NaN</td>\n",
              "      <td>NaN</td>\n",
              "      <td>NaN</td>\n",
              "      <td>NaN</td>\n",
              "      <td>8398873.0</td>\n",
              "      <td>1.158124e+10</td>\n",
              "      <td>NaN</td>\n",
              "      <td>NaN</td>\n",
              "      <td>NaN</td>\n",
              "    </tr>\n",
              "    <tr>\n",
              "      <th>8</th>\n",
              "      <td>AFG</td>\n",
              "      <td>Afghanistan</td>\n",
              "      <td>1957</td>\n",
              "      <td>0.293</td>\n",
              "      <td>0.034</td>\n",
              "      <td>NaN</td>\n",
              "      <td>NaN</td>\n",
              "      <td>NaN</td>\n",
              "      <td>0.077</td>\n",
              "      <td>0.009</td>\n",
              "      <td>...</td>\n",
              "      <td>NaN</td>\n",
              "      <td>NaN</td>\n",
              "      <td>NaN</td>\n",
              "      <td>NaN</td>\n",
              "      <td>NaN</td>\n",
              "      <td>8535157.0</td>\n",
              "      <td>1.157897e+10</td>\n",
              "      <td>NaN</td>\n",
              "      <td>NaN</td>\n",
              "      <td>NaN</td>\n",
              "    </tr>\n",
              "    <tr>\n",
              "      <th>9</th>\n",
              "      <td>AFG</td>\n",
              "      <td>Afghanistan</td>\n",
              "      <td>1958</td>\n",
              "      <td>0.330</td>\n",
              "      <td>0.038</td>\n",
              "      <td>NaN</td>\n",
              "      <td>NaN</td>\n",
              "      <td>NaN</td>\n",
              "      <td>0.092</td>\n",
              "      <td>0.011</td>\n",
              "      <td>...</td>\n",
              "      <td>NaN</td>\n",
              "      <td>NaN</td>\n",
              "      <td>NaN</td>\n",
              "      <td>NaN</td>\n",
              "      <td>NaN</td>\n",
              "      <td>8680097.0</td>\n",
              "      <td>1.223884e+10</td>\n",
              "      <td>NaN</td>\n",
              "      <td>NaN</td>\n",
              "      <td>NaN</td>\n",
              "    </tr>\n",
              "  </tbody>\n",
              "</table>\n",
              "<p>10 rows × 60 columns</p>\n",
              "</div>\n",
              "      <button class=\"colab-df-convert\" onclick=\"convertToInteractive('df-acca708c-d4f9-4ffe-8b3a-e74035ad537c')\"\n",
              "              title=\"Convert this dataframe to an interactive table.\"\n",
              "              style=\"display:none;\">\n",
              "        \n",
              "  <svg xmlns=\"http://www.w3.org/2000/svg\" height=\"24px\"viewBox=\"0 0 24 24\"\n",
              "       width=\"24px\">\n",
              "    <path d=\"M0 0h24v24H0V0z\" fill=\"none\"/>\n",
              "    <path d=\"M18.56 5.44l.94 2.06.94-2.06 2.06-.94-2.06-.94-.94-2.06-.94 2.06-2.06.94zm-11 1L8.5 8.5l.94-2.06 2.06-.94-2.06-.94L8.5 2.5l-.94 2.06-2.06.94zm10 10l.94 2.06.94-2.06 2.06-.94-2.06-.94-.94-2.06-.94 2.06-2.06.94z\"/><path d=\"M17.41 7.96l-1.37-1.37c-.4-.4-.92-.59-1.43-.59-.52 0-1.04.2-1.43.59L10.3 9.45l-7.72 7.72c-.78.78-.78 2.05 0 2.83L4 21.41c.39.39.9.59 1.41.59.51 0 1.02-.2 1.41-.59l7.78-7.78 2.81-2.81c.8-.78.8-2.07 0-2.86zM5.41 20L4 18.59l7.72-7.72 1.47 1.35L5.41 20z\"/>\n",
              "  </svg>\n",
              "      </button>\n",
              "      \n",
              "  <style>\n",
              "    .colab-df-container {\n",
              "      display:flex;\n",
              "      flex-wrap:wrap;\n",
              "      gap: 12px;\n",
              "    }\n",
              "\n",
              "    .colab-df-convert {\n",
              "      background-color: #E8F0FE;\n",
              "      border: none;\n",
              "      border-radius: 50%;\n",
              "      cursor: pointer;\n",
              "      display: none;\n",
              "      fill: #1967D2;\n",
              "      height: 32px;\n",
              "      padding: 0 0 0 0;\n",
              "      width: 32px;\n",
              "    }\n",
              "\n",
              "    .colab-df-convert:hover {\n",
              "      background-color: #E2EBFA;\n",
              "      box-shadow: 0px 1px 2px rgba(60, 64, 67, 0.3), 0px 1px 3px 1px rgba(60, 64, 67, 0.15);\n",
              "      fill: #174EA6;\n",
              "    }\n",
              "\n",
              "    [theme=dark] .colab-df-convert {\n",
              "      background-color: #3B4455;\n",
              "      fill: #D2E3FC;\n",
              "    }\n",
              "\n",
              "    [theme=dark] .colab-df-convert:hover {\n",
              "      background-color: #434B5C;\n",
              "      box-shadow: 0px 1px 3px 1px rgba(0, 0, 0, 0.15);\n",
              "      filter: drop-shadow(0px 1px 2px rgba(0, 0, 0, 0.3));\n",
              "      fill: #FFFFFF;\n",
              "    }\n",
              "  </style>\n",
              "\n",
              "      <script>\n",
              "        const buttonEl =\n",
              "          document.querySelector('#df-acca708c-d4f9-4ffe-8b3a-e74035ad537c button.colab-df-convert');\n",
              "        buttonEl.style.display =\n",
              "          google.colab.kernel.accessAllowed ? 'block' : 'none';\n",
              "\n",
              "        async function convertToInteractive(key) {\n",
              "          const element = document.querySelector('#df-acca708c-d4f9-4ffe-8b3a-e74035ad537c');\n",
              "          const dataTable =\n",
              "            await google.colab.kernel.invokeFunction('convertToInteractive',\n",
              "                                                     [key], {});\n",
              "          if (!dataTable) return;\n",
              "\n",
              "          const docLinkHtml = 'Like what you see? Visit the ' +\n",
              "            '<a target=\"_blank\" href=https://colab.research.google.com/notebooks/data_table.ipynb>data table notebook</a>'\n",
              "            + ' to learn more about interactive tables.';\n",
              "          element.innerHTML = '';\n",
              "          dataTable['output_type'] = 'display_data';\n",
              "          await google.colab.output.renderOutput(dataTable, element);\n",
              "          const docLink = document.createElement('div');\n",
              "          docLink.innerHTML = docLinkHtml;\n",
              "          element.appendChild(docLink);\n",
              "        }\n",
              "      </script>\n",
              "    </div>\n",
              "  </div>\n",
              "  "
            ]
          },
          "metadata": {},
          "execution_count": 6
        }
      ],
      "source": [
        "co2_data.head(10)"
      ]
    },
    {
      "cell_type": "code",
      "execution_count": 7,
      "id": "f2378089",
      "metadata": {
        "id": "f2378089",
        "colab": {
          "base_uri": "https://localhost:8080/",
          "height": 394
        },
        "outputId": "4125985a-90f7-4440-c31b-97c72db0be27"
      },
      "outputs": [
        {
          "output_type": "execute_result",
          "data": {
            "text/plain": [
              "               year           co2  co2_per_capita    trade_co2    cement_co2  \\\n",
              "count  25989.000000  24670.000000    24032.000000  4096.000000  12668.000000   \n",
              "mean    1952.168225    326.658348        4.115845    -8.124470     15.853638   \n",
              "std       54.592939   1677.027130       14.700552   262.090605     84.179826   \n",
              "min     1750.000000      0.000000        0.000000 -2232.999000      0.000000   \n",
              "25%     1922.000000      0.557000        0.253000    -1.663750      0.134000   \n",
              "50%     1966.000000      5.333000        1.226000     1.874500      0.603000   \n",
              "75%     1994.000000     48.153250        4.612250     9.700500      3.255000   \n",
              "max     2020.000000  36702.503000      748.639000  2047.575000   1626.371000   \n",
              "\n",
              "       cement_co2_per_capita      coal_co2  coal_co2_per_capita  flaring_co2  \\\n",
              "count           12638.000000  17909.000000         17536.000000  4641.000000   \n",
              "mean                0.111586    212.296783             1.543364    17.691973   \n",
              "std                 0.147534    863.287148             2.524852    42.421165   \n",
              "min                 0.000000      0.000000             0.000000     0.000000   \n",
              "25%                 0.019000      0.359000             0.056000     0.288000   \n",
              "50%                 0.068000      4.540000             0.441500     2.396000   \n",
              "75%                 0.155000     42.086000             2.141000    15.718000   \n",
              "max                 2.738000  15062.902000            34.184000   435.034000   \n",
              "\n",
              "       flaring_co2_per_capita  ...  ghg_excluding_lucf_per_capita  \\\n",
              "count             4640.000000  ...                    5651.000000   \n",
              "mean                 0.829055  ...                       6.870665   \n",
              "std                  5.326217  ...                       7.270324   \n",
              "min                  0.000000  ...                       0.101000   \n",
              "25%                  0.020000  ...                       2.095500   \n",
              "50%                  0.064000  ...                       4.442000   \n",
              "75%                  0.180000  ...                       8.975000   \n",
              "max                 94.711000  ...                      53.650000   \n",
              "\n",
              "           methane  methane_per_capita  nitrous_oxide  \\\n",
              "count  5655.000000         5655.000000    5655.000000   \n",
              "mean     79.072368            1.902152      29.088635   \n",
              "std     545.014528            3.318293     198.147748   \n",
              "min       0.000000            0.000000       0.000000   \n",
              "25%       2.005000            0.691000       0.510000   \n",
              "50%       8.530000            1.077000       3.460000   \n",
              "75%      30.025000            1.619000      11.195000   \n",
              "max    8298.270000           39.795000    3078.270000   \n",
              "\n",
              "       nitrous_oxide_per_capita    population           gdp  \\\n",
              "count               5655.000000  2.289200e+04  1.346900e+04   \n",
              "mean                   0.601973  7.068041e+07  2.889570e+11   \n",
              "std                    0.890161  3.794737e+08  2.185600e+12   \n",
              "min                    0.000000  1.490000e+03  5.543200e+07   \n",
              "25%                    0.221000  1.287425e+06  9.790110e+09   \n",
              "50%                    0.377000  4.869928e+06  3.044678e+10   \n",
              "75%                    0.589000  1.757624e+07  1.274622e+11   \n",
              "max                   10.056000  7.794799e+09  1.136302e+14   \n",
              "\n",
              "       primary_energy_consumption  energy_per_capita  energy_per_gdp  \n",
              "count                 9345.000000        9300.000000     7149.000000  \n",
              "mean                  1425.651569       24469.973841        1.805888  \n",
              "std                   8750.538123       32096.347648        1.779325  \n",
              "min                      0.000000           0.000000        0.078000  \n",
              "25%                      6.440000        3067.494750        0.859000  \n",
              "50%                     54.352000       12983.272000        1.309000  \n",
              "75%                    326.727000       34081.015500        2.203000  \n",
              "max                 161530.754000      308704.252000       25.253000  \n",
              "\n",
              "[8 rows x 58 columns]"
            ],
            "text/html": [
              "\n",
              "  <div id=\"df-6611bb07-a920-4a9b-aa37-c7f7b5573c3c\">\n",
              "    <div class=\"colab-df-container\">\n",
              "      <div>\n",
              "<style scoped>\n",
              "    .dataframe tbody tr th:only-of-type {\n",
              "        vertical-align: middle;\n",
              "    }\n",
              "\n",
              "    .dataframe tbody tr th {\n",
              "        vertical-align: top;\n",
              "    }\n",
              "\n",
              "    .dataframe thead th {\n",
              "        text-align: right;\n",
              "    }\n",
              "</style>\n",
              "<table border=\"1\" class=\"dataframe\">\n",
              "  <thead>\n",
              "    <tr style=\"text-align: right;\">\n",
              "      <th></th>\n",
              "      <th>year</th>\n",
              "      <th>co2</th>\n",
              "      <th>co2_per_capita</th>\n",
              "      <th>trade_co2</th>\n",
              "      <th>cement_co2</th>\n",
              "      <th>cement_co2_per_capita</th>\n",
              "      <th>coal_co2</th>\n",
              "      <th>coal_co2_per_capita</th>\n",
              "      <th>flaring_co2</th>\n",
              "      <th>flaring_co2_per_capita</th>\n",
              "      <th>...</th>\n",
              "      <th>ghg_excluding_lucf_per_capita</th>\n",
              "      <th>methane</th>\n",
              "      <th>methane_per_capita</th>\n",
              "      <th>nitrous_oxide</th>\n",
              "      <th>nitrous_oxide_per_capita</th>\n",
              "      <th>population</th>\n",
              "      <th>gdp</th>\n",
              "      <th>primary_energy_consumption</th>\n",
              "      <th>energy_per_capita</th>\n",
              "      <th>energy_per_gdp</th>\n",
              "    </tr>\n",
              "  </thead>\n",
              "  <tbody>\n",
              "    <tr>\n",
              "      <th>count</th>\n",
              "      <td>25989.000000</td>\n",
              "      <td>24670.000000</td>\n",
              "      <td>24032.000000</td>\n",
              "      <td>4096.000000</td>\n",
              "      <td>12668.000000</td>\n",
              "      <td>12638.000000</td>\n",
              "      <td>17909.000000</td>\n",
              "      <td>17536.000000</td>\n",
              "      <td>4641.000000</td>\n",
              "      <td>4640.000000</td>\n",
              "      <td>...</td>\n",
              "      <td>5651.000000</td>\n",
              "      <td>5655.000000</td>\n",
              "      <td>5655.000000</td>\n",
              "      <td>5655.000000</td>\n",
              "      <td>5655.000000</td>\n",
              "      <td>2.289200e+04</td>\n",
              "      <td>1.346900e+04</td>\n",
              "      <td>9345.000000</td>\n",
              "      <td>9300.000000</td>\n",
              "      <td>7149.000000</td>\n",
              "    </tr>\n",
              "    <tr>\n",
              "      <th>mean</th>\n",
              "      <td>1952.168225</td>\n",
              "      <td>326.658348</td>\n",
              "      <td>4.115845</td>\n",
              "      <td>-8.124470</td>\n",
              "      <td>15.853638</td>\n",
              "      <td>0.111586</td>\n",
              "      <td>212.296783</td>\n",
              "      <td>1.543364</td>\n",
              "      <td>17.691973</td>\n",
              "      <td>0.829055</td>\n",
              "      <td>...</td>\n",
              "      <td>6.870665</td>\n",
              "      <td>79.072368</td>\n",
              "      <td>1.902152</td>\n",
              "      <td>29.088635</td>\n",
              "      <td>0.601973</td>\n",
              "      <td>7.068041e+07</td>\n",
              "      <td>2.889570e+11</td>\n",
              "      <td>1425.651569</td>\n",
              "      <td>24469.973841</td>\n",
              "      <td>1.805888</td>\n",
              "    </tr>\n",
              "    <tr>\n",
              "      <th>std</th>\n",
              "      <td>54.592939</td>\n",
              "      <td>1677.027130</td>\n",
              "      <td>14.700552</td>\n",
              "      <td>262.090605</td>\n",
              "      <td>84.179826</td>\n",
              "      <td>0.147534</td>\n",
              "      <td>863.287148</td>\n",
              "      <td>2.524852</td>\n",
              "      <td>42.421165</td>\n",
              "      <td>5.326217</td>\n",
              "      <td>...</td>\n",
              "      <td>7.270324</td>\n",
              "      <td>545.014528</td>\n",
              "      <td>3.318293</td>\n",
              "      <td>198.147748</td>\n",
              "      <td>0.890161</td>\n",
              "      <td>3.794737e+08</td>\n",
              "      <td>2.185600e+12</td>\n",
              "      <td>8750.538123</td>\n",
              "      <td>32096.347648</td>\n",
              "      <td>1.779325</td>\n",
              "    </tr>\n",
              "    <tr>\n",
              "      <th>min</th>\n",
              "      <td>1750.000000</td>\n",
              "      <td>0.000000</td>\n",
              "      <td>0.000000</td>\n",
              "      <td>-2232.999000</td>\n",
              "      <td>0.000000</td>\n",
              "      <td>0.000000</td>\n",
              "      <td>0.000000</td>\n",
              "      <td>0.000000</td>\n",
              "      <td>0.000000</td>\n",
              "      <td>0.000000</td>\n",
              "      <td>...</td>\n",
              "      <td>0.101000</td>\n",
              "      <td>0.000000</td>\n",
              "      <td>0.000000</td>\n",
              "      <td>0.000000</td>\n",
              "      <td>0.000000</td>\n",
              "      <td>1.490000e+03</td>\n",
              "      <td>5.543200e+07</td>\n",
              "      <td>0.000000</td>\n",
              "      <td>0.000000</td>\n",
              "      <td>0.078000</td>\n",
              "    </tr>\n",
              "    <tr>\n",
              "      <th>25%</th>\n",
              "      <td>1922.000000</td>\n",
              "      <td>0.557000</td>\n",
              "      <td>0.253000</td>\n",
              "      <td>-1.663750</td>\n",
              "      <td>0.134000</td>\n",
              "      <td>0.019000</td>\n",
              "      <td>0.359000</td>\n",
              "      <td>0.056000</td>\n",
              "      <td>0.288000</td>\n",
              "      <td>0.020000</td>\n",
              "      <td>...</td>\n",
              "      <td>2.095500</td>\n",
              "      <td>2.005000</td>\n",
              "      <td>0.691000</td>\n",
              "      <td>0.510000</td>\n",
              "      <td>0.221000</td>\n",
              "      <td>1.287425e+06</td>\n",
              "      <td>9.790110e+09</td>\n",
              "      <td>6.440000</td>\n",
              "      <td>3067.494750</td>\n",
              "      <td>0.859000</td>\n",
              "    </tr>\n",
              "    <tr>\n",
              "      <th>50%</th>\n",
              "      <td>1966.000000</td>\n",
              "      <td>5.333000</td>\n",
              "      <td>1.226000</td>\n",
              "      <td>1.874500</td>\n",
              "      <td>0.603000</td>\n",
              "      <td>0.068000</td>\n",
              "      <td>4.540000</td>\n",
              "      <td>0.441500</td>\n",
              "      <td>2.396000</td>\n",
              "      <td>0.064000</td>\n",
              "      <td>...</td>\n",
              "      <td>4.442000</td>\n",
              "      <td>8.530000</td>\n",
              "      <td>1.077000</td>\n",
              "      <td>3.460000</td>\n",
              "      <td>0.377000</td>\n",
              "      <td>4.869928e+06</td>\n",
              "      <td>3.044678e+10</td>\n",
              "      <td>54.352000</td>\n",
              "      <td>12983.272000</td>\n",
              "      <td>1.309000</td>\n",
              "    </tr>\n",
              "    <tr>\n",
              "      <th>75%</th>\n",
              "      <td>1994.000000</td>\n",
              "      <td>48.153250</td>\n",
              "      <td>4.612250</td>\n",
              "      <td>9.700500</td>\n",
              "      <td>3.255000</td>\n",
              "      <td>0.155000</td>\n",
              "      <td>42.086000</td>\n",
              "      <td>2.141000</td>\n",
              "      <td>15.718000</td>\n",
              "      <td>0.180000</td>\n",
              "      <td>...</td>\n",
              "      <td>8.975000</td>\n",
              "      <td>30.025000</td>\n",
              "      <td>1.619000</td>\n",
              "      <td>11.195000</td>\n",
              "      <td>0.589000</td>\n",
              "      <td>1.757624e+07</td>\n",
              "      <td>1.274622e+11</td>\n",
              "      <td>326.727000</td>\n",
              "      <td>34081.015500</td>\n",
              "      <td>2.203000</td>\n",
              "    </tr>\n",
              "    <tr>\n",
              "      <th>max</th>\n",
              "      <td>2020.000000</td>\n",
              "      <td>36702.503000</td>\n",
              "      <td>748.639000</td>\n",
              "      <td>2047.575000</td>\n",
              "      <td>1626.371000</td>\n",
              "      <td>2.738000</td>\n",
              "      <td>15062.902000</td>\n",
              "      <td>34.184000</td>\n",
              "      <td>435.034000</td>\n",
              "      <td>94.711000</td>\n",
              "      <td>...</td>\n",
              "      <td>53.650000</td>\n",
              "      <td>8298.270000</td>\n",
              "      <td>39.795000</td>\n",
              "      <td>3078.270000</td>\n",
              "      <td>10.056000</td>\n",
              "      <td>7.794799e+09</td>\n",
              "      <td>1.136302e+14</td>\n",
              "      <td>161530.754000</td>\n",
              "      <td>308704.252000</td>\n",
              "      <td>25.253000</td>\n",
              "    </tr>\n",
              "  </tbody>\n",
              "</table>\n",
              "<p>8 rows × 58 columns</p>\n",
              "</div>\n",
              "      <button class=\"colab-df-convert\" onclick=\"convertToInteractive('df-6611bb07-a920-4a9b-aa37-c7f7b5573c3c')\"\n",
              "              title=\"Convert this dataframe to an interactive table.\"\n",
              "              style=\"display:none;\">\n",
              "        \n",
              "  <svg xmlns=\"http://www.w3.org/2000/svg\" height=\"24px\"viewBox=\"0 0 24 24\"\n",
              "       width=\"24px\">\n",
              "    <path d=\"M0 0h24v24H0V0z\" fill=\"none\"/>\n",
              "    <path d=\"M18.56 5.44l.94 2.06.94-2.06 2.06-.94-2.06-.94-.94-2.06-.94 2.06-2.06.94zm-11 1L8.5 8.5l.94-2.06 2.06-.94-2.06-.94L8.5 2.5l-.94 2.06-2.06.94zm10 10l.94 2.06.94-2.06 2.06-.94-2.06-.94-.94-2.06-.94 2.06-2.06.94z\"/><path d=\"M17.41 7.96l-1.37-1.37c-.4-.4-.92-.59-1.43-.59-.52 0-1.04.2-1.43.59L10.3 9.45l-7.72 7.72c-.78.78-.78 2.05 0 2.83L4 21.41c.39.39.9.59 1.41.59.51 0 1.02-.2 1.41-.59l7.78-7.78 2.81-2.81c.8-.78.8-2.07 0-2.86zM5.41 20L4 18.59l7.72-7.72 1.47 1.35L5.41 20z\"/>\n",
              "  </svg>\n",
              "      </button>\n",
              "      \n",
              "  <style>\n",
              "    .colab-df-container {\n",
              "      display:flex;\n",
              "      flex-wrap:wrap;\n",
              "      gap: 12px;\n",
              "    }\n",
              "\n",
              "    .colab-df-convert {\n",
              "      background-color: #E8F0FE;\n",
              "      border: none;\n",
              "      border-radius: 50%;\n",
              "      cursor: pointer;\n",
              "      display: none;\n",
              "      fill: #1967D2;\n",
              "      height: 32px;\n",
              "      padding: 0 0 0 0;\n",
              "      width: 32px;\n",
              "    }\n",
              "\n",
              "    .colab-df-convert:hover {\n",
              "      background-color: #E2EBFA;\n",
              "      box-shadow: 0px 1px 2px rgba(60, 64, 67, 0.3), 0px 1px 3px 1px rgba(60, 64, 67, 0.15);\n",
              "      fill: #174EA6;\n",
              "    }\n",
              "\n",
              "    [theme=dark] .colab-df-convert {\n",
              "      background-color: #3B4455;\n",
              "      fill: #D2E3FC;\n",
              "    }\n",
              "\n",
              "    [theme=dark] .colab-df-convert:hover {\n",
              "      background-color: #434B5C;\n",
              "      box-shadow: 0px 1px 3px 1px rgba(0, 0, 0, 0.15);\n",
              "      filter: drop-shadow(0px 1px 2px rgba(0, 0, 0, 0.3));\n",
              "      fill: #FFFFFF;\n",
              "    }\n",
              "  </style>\n",
              "\n",
              "      <script>\n",
              "        const buttonEl =\n",
              "          document.querySelector('#df-6611bb07-a920-4a9b-aa37-c7f7b5573c3c button.colab-df-convert');\n",
              "        buttonEl.style.display =\n",
              "          google.colab.kernel.accessAllowed ? 'block' : 'none';\n",
              "\n",
              "        async function convertToInteractive(key) {\n",
              "          const element = document.querySelector('#df-6611bb07-a920-4a9b-aa37-c7f7b5573c3c');\n",
              "          const dataTable =\n",
              "            await google.colab.kernel.invokeFunction('convertToInteractive',\n",
              "                                                     [key], {});\n",
              "          if (!dataTable) return;\n",
              "\n",
              "          const docLinkHtml = 'Like what you see? Visit the ' +\n",
              "            '<a target=\"_blank\" href=https://colab.research.google.com/notebooks/data_table.ipynb>data table notebook</a>'\n",
              "            + ' to learn more about interactive tables.';\n",
              "          element.innerHTML = '';\n",
              "          dataTable['output_type'] = 'display_data';\n",
              "          await google.colab.output.renderOutput(dataTable, element);\n",
              "          const docLink = document.createElement('div');\n",
              "          docLink.innerHTML = docLinkHtml;\n",
              "          element.appendChild(docLink);\n",
              "        }\n",
              "      </script>\n",
              "    </div>\n",
              "  </div>\n",
              "  "
            ]
          },
          "metadata": {},
          "execution_count": 7
        }
      ],
      "source": [
        "co2_data.describe()"
      ]
    },
    {
      "cell_type": "code",
      "execution_count": 8,
      "id": "bdf5b154",
      "metadata": {
        "id": "bdf5b154",
        "colab": {
          "base_uri": "https://localhost:8080/",
          "height": 0
        },
        "outputId": "e53e9a77-0bb5-49f1-b593-618eb6de41f2"
      },
      "outputs": [
        {
          "output_type": "execute_result",
          "data": {
            "text/plain": [
              "array([['AFG', 'Afghanistan', 1949, ..., nan, nan, nan],\n",
              "       ['AFG', 'Afghanistan', 1950, ..., nan, nan, nan],\n",
              "       ['AFG', 'Afghanistan', 1951, ..., nan, nan, nan],\n",
              "       ...,\n",
              "       ['ZWE', 'Zimbabwe', 2018, ..., 47.502, 3289.887, 2.091],\n",
              "       ['ZWE', 'Zimbabwe', 2019, ..., 49.427, 3374.877, nan],\n",
              "       ['ZWE', 'Zimbabwe', 2020, ..., nan, nan, nan]], dtype=object)"
            ]
          },
          "metadata": {},
          "execution_count": 8
        }
      ],
      "source": [
        "co2_data.values"
      ]
    },
    {
      "cell_type": "code",
      "source": [
        "#Lets visualize Total increase by Year:\n",
        "\n",
        "plt.xlabel('Years')\n",
        "\n",
        "plt.ylabel('Co2')\n",
        "\n",
        "plt.rcParams[\"figure.figsize\"] = [10,5]\n",
        "\n",
        "plt.title('Co2 emmisions by year')\n",
        "\n",
        "\n",
        "plt.plot(co2_data[\"year\"],co2_data[\"co2\"])"
      ],
      "metadata": {
        "colab": {
          "base_uri": "https://localhost:8080/",
          "height": 314
        },
        "id": "_YAZ78M8jt-W",
        "outputId": "d984722d-3fda-4767-d849-f2a174fa7164"
      },
      "id": "_YAZ78M8jt-W",
      "execution_count": 9,
      "outputs": [
        {
          "output_type": "execute_result",
          "data": {
            "text/plain": [
              "[<matplotlib.lines.Line2D at 0x7f1abe655210>]"
            ]
          },
          "metadata": {},
          "execution_count": 9
        },
        {
          "output_type": "display_data",
          "data": {
            "text/plain": [
              "<Figure size 432x288 with 1 Axes>"
            ],
            "image/png": "[encoded data removed]"
          },
          "metadata": {
            "needs_background": "light"
          }
        }
      ]
    },
    {
      "cell_type": "markdown",
      "id": "d56514dd",
      "metadata": {
        "id": "d56514dd"
      },
      "source": [
        "## Cleaning the data"
      ]
    },
    {
      "cell_type": "code",
      "execution_count": 10,
      "id": "98d2036c",
      "metadata": {
        "id": "98d2036c"
      },
      "outputs": [],
      "source": [
        "#Removing excess data that does not contain North America\n",
        "co2_data_copy = co2_data.drop(range(0,16951))"
      ]
    },
    {
      "cell_type": "code",
      "execution_count": 11,
      "id": "f0523141",
      "metadata": {
        "id": "f0523141",
        "colab": {
          "base_uri": "https://localhost:8080/",
          "height": 661
        },
        "outputId": "a5decfe9-f82b-4d85-df6c-3a61f321ac8f"
      },
      "outputs": [
        {
          "output_type": "execute_result",
          "data": {
            "text/plain": [
              "      iso_code        country  year       co2  co2_per_capita  trade_co2  \\\n",
              "16951      NaN  North America  1951  2840.649          12.400        NaN   \n",
              "16952      NaN  North America  1952  2768.178          11.865        NaN   \n",
              "16953      NaN  North America  1953  2831.916          11.906        NaN   \n",
              "16954      NaN  North America  1954  2718.204          11.202        NaN   \n",
              "16955      NaN  North America  1955  2966.226          11.977        NaN   \n",
              "...        ...            ...   ...       ...             ...        ...   \n",
              "17016      NaN  North America  2016  6471.360          11.353    309.904   \n",
              "17017      NaN  North America  2017  6412.982          11.155    335.009   \n",
              "17018      NaN  North America  2018  6588.630          11.366    345.915   \n",
              "17019      NaN  North America  2019  6460.726          11.056    354.353   \n",
              "17020      NaN  North America  2020  5775.159           9.805        NaN   \n",
              "\n",
              "       cement_co2  cement_co2_per_capita  coal_co2  coal_co2_per_capita  ...  \\\n",
              "16951      24.354                  0.106  1311.059                5.723  ...   \n",
              "16952      24.793                  0.106  1166.979                5.002  ...   \n",
              "16953      26.359                  0.111  1152.006                4.843  ...   \n",
              "16954      27.053                  0.112   996.425                4.106  ...   \n",
              "16955      29.971                  0.121  1101.369                4.447  ...   \n",
              "...           ...                    ...       ...                  ...  ...   \n",
              "17016      70.858                  0.124  1509.631                2.648  ...   \n",
              "17017      72.914                  0.127  1467.602                2.553  ...   \n",
              "17018      74.787                  0.129  1398.979                2.413  ...   \n",
              "17019      76.925                  0.132  1214.329                2.078  ...   \n",
              "17020      76.870                  0.130   965.430                1.639  ...   \n",
              "\n",
              "       ghg_excluding_lucf_per_capita  methane  methane_per_capita  \\\n",
              "16951                            NaN      NaN                 NaN   \n",
              "16952                            NaN      NaN                 NaN   \n",
              "16953                            NaN      NaN                 NaN   \n",
              "16954                            NaN      NaN                 NaN   \n",
              "16955                            NaN      NaN                 NaN   \n",
              "...                              ...      ...                 ...   \n",
              "17016                            NaN      NaN                 NaN   \n",
              "17017                            NaN      NaN                 NaN   \n",
              "17018                            NaN      NaN                 NaN   \n",
              "17019                            NaN      NaN                 NaN   \n",
              "17020                            NaN      NaN                 NaN   \n",
              "\n",
              "       nitrous_oxide  nitrous_oxide_per_capita   population  gdp  \\\n",
              "16951            NaN                       NaN  231441368.0  NaN   \n",
              "16952            NaN                       NaN  235649103.0  NaN   \n",
              "16953            NaN                       NaN  240198158.0  NaN   \n",
              "16954            NaN                       NaN  245015316.0  NaN   \n",
              "16955            NaN                       NaN  250035147.0  NaN   \n",
              "...              ...                       ...          ...  ...   \n",
              "17016            NaN                       NaN  573814461.0  NaN   \n",
              "17017            NaN                       NaN  578582963.0  NaN   \n",
              "17018            NaN                       NaN  582921781.0  NaN   \n",
              "17019            NaN                       NaN  587512621.0  NaN   \n",
              "17020            NaN                       NaN  592062319.0  NaN   \n",
              "\n",
              "       primary_energy_consumption  energy_per_capita  energy_per_gdp  \n",
              "16951                         NaN                NaN             NaN  \n",
              "16952                         NaN                NaN             NaN  \n",
              "16953                         NaN                NaN             NaN  \n",
              "16954                         NaN                NaN             NaN  \n",
              "16955                         NaN                NaN             NaN  \n",
              "...                           ...                ...             ...  \n",
              "17016                         NaN                NaN             NaN  \n",
              "17017                         NaN                NaN             NaN  \n",
              "17018                         NaN                NaN             NaN  \n",
              "17019                         NaN                NaN             NaN  \n",
              "17020                         NaN                NaN             NaN  \n",
              "\n",
              "[70 rows x 60 columns]"
            ],
            "text/html": [
              "\n",
              "  <div id=\"df-0b65de2f-921d-4cd1-8292-ea30eabf6ec1\">\n",
              "    <div class=\"colab-df-container\">\n",
              "      <div>\n",
              "<style scoped>\n",
              "    .dataframe tbody tr th:only-of-type {\n",
              "        vertical-align: middle;\n",
              "    }\n",
              "\n",
              "    .dataframe tbody tr th {\n",
              "        vertical-align: top;\n",
              "    }\n",
              "\n",
              "    .dataframe thead th {\n",
              "        text-align: right;\n",
              "    }\n",
              "</style>\n",
              "<table border=\"1\" class=\"dataframe\">\n",
              "  <thead>\n",
              "    <tr style=\"text-align: right;\">\n",
              "      <th></th>\n",
              "      <th>iso_code</th>\n",
              "      <th>country</th>\n",
              "      <th>year</th>\n",
              "      <th>co2</th>\n",
              "      <th>co2_per_capita</th>\n",
              "      <th>trade_co2</th>\n",
              "      <th>cement_co2</th>\n",
              "      <th>cement_co2_per_capita</th>\n",
              "      <th>coal_co2</th>\n",
              "      <th>coal_co2_per_capita</th>\n",
              "      <th>...</th>\n",
              "      <th>ghg_excluding_lucf_per_capita</th>\n",
              "      <th>methane</th>\n",
              "      <th>methane_per_capita</th>\n",
              "      <th>nitrous_oxide</th>\n",
              "      <th>nitrous_oxide_per_capita</th>\n",
              "      <th>population</th>\n",
              "      <th>gdp</th>\n",
              "      <th>primary_energy_consumption</th>\n",
              "      <th>energy_per_capita</th>\n",
              "      <th>energy_per_gdp</th>\n",
              "    </tr>\n",
              "  </thead>\n",
              "  <tbody>\n",
              "    <tr>\n",
              "      <th>16951</th>\n",
              "      <td>NaN</td>\n",
              "      <td>North America</td>\n",
              "      <td>1951</td>\n",
              "      <td>2840.649</td>\n",
              "      <td>12.400</td>\n",
              "      <td>NaN</td>\n",
              "      <td>24.354</td>\n",
              "      <td>0.106</td>\n",
              "      <td>1311.059</td>\n",
              "      <td>5.723</td>\n",
              "      <td>...</td>\n",
              "      <td>NaN</td>\n",
              "      <td>NaN</td>\n",
              "      <td>NaN</td>\n",
              "      <td>NaN</td>\n",
              "      <td>NaN</td>\n",
              "      <td>231441368.0</td>\n",
              "      <td>NaN</td>\n",
              "      <td>NaN</td>\n",
              "      <td>NaN</td>\n",
              "      <td>NaN</td>\n",
              "    </tr>\n",
              "    <tr>\n",
              "      <th>16952</th>\n",
              "      <td>NaN</td>\n",
              "      <td>North America</td>\n",
              "      <td>1952</td>\n",
              "      <td>2768.178</td>\n",
              "      <td>11.865</td>\n",
              "      <td>NaN</td>\n",
              "      <td>24.793</td>\n",
              "      <td>0.106</td>\n",
              "      <td>1166.979</td>\n",
              "      <td>5.002</td>\n",
              "      <td>...</td>\n",
              "      <td>NaN</td>\n",
              "      <td>NaN</td>\n",
              "      <td>NaN</td>\n",
              "      <td>NaN</td>\n",
              "      <td>NaN</td>\n",
              "      <td>235649103.0</td>\n",
              "      <td>NaN</td>\n",
              "      <td>NaN</td>\n",
              "      <td>NaN</td>\n",
              "      <td>NaN</td>\n",
              "    </tr>\n",
              "    <tr>\n",
              "      <th>16953</th>\n",
              "      <td>NaN</td>\n",
              "      <td>North America</td>\n",
              "      <td>1953</td>\n",
              "      <td>2831.916</td>\n",
              "      <td>11.906</td>\n",
              "      <td>NaN</td>\n",
              "      <td>26.359</td>\n",
              "      <td>0.111</td>\n",
              "      <td>1152.006</td>\n",
              "      <td>4.843</td>\n",
              "      <td>...</td>\n",
              "      <td>NaN</td>\n",
              "      <td>NaN</td>\n",
              "      <td>NaN</td>\n",
              "      <td>NaN</td>\n",
              "      <td>NaN</td>\n",
              "      <td>240198158.0</td>\n",
              "      <td>NaN</td>\n",
              "      <td>NaN</td>\n",
              "      <td>NaN</td>\n",
              "      <td>NaN</td>\n",
              "    </tr>\n",
              "    <tr>\n",
              "      <th>16954</th>\n",
              "      <td>NaN</td>\n",
              "      <td>North America</td>\n",
              "      <td>1954</td>\n",
              "      <td>2718.204</td>\n",
              "      <td>11.202</td>\n",
              "      <td>NaN</td>\n",
              "      <td>27.053</td>\n",
              "      <td>0.112</td>\n",
              "      <td>996.425</td>\n",
              "      <td>4.106</td>\n",
              "      <td>...</td>\n",
              "      <td>NaN</td>\n",
              "      <td>NaN</td>\n",
              "      <td>NaN</td>\n",
              "      <td>NaN</td>\n",
              "      <td>NaN</td>\n",
              "      <td>245015316.0</td>\n",
              "      <td>NaN</td>\n",
              "      <td>NaN</td>\n",
              "      <td>NaN</td>\n",
              "      <td>NaN</td>\n",
              "    </tr>\n",
              "    <tr>\n",
              "      <th>16955</th>\n",
              "      <td>NaN</td>\n",
              "      <td>North America</td>\n",
              "      <td>1955</td>\n",
              "      <td>2966.226</td>\n",
              "      <td>11.977</td>\n",
              "      <td>NaN</td>\n",
              "      <td>29.971</td>\n",
              "      <td>0.121</td>\n",
              "      <td>1101.369</td>\n",
              "      <td>4.447</td>\n",
              "      <td>...</td>\n",
              "      <td>NaN</td>\n",
              "      <td>NaN</td>\n",
              "      <td>NaN</td>\n",
              "      <td>NaN</td>\n",
              "      <td>NaN</td>\n",
              "      <td>250035147.0</td>\n",
              "      <td>NaN</td>\n",
              "      <td>NaN</td>\n",
              "      <td>NaN</td>\n",
              "      <td>NaN</td>\n",
              "    </tr>\n",
              "    <tr>\n",
              "      <th>...</th>\n",
              "      <td>...</td>\n",
              "      <td>...</td>\n",
              "      <td>...</td>\n",
              "      <td>...</td>\n",
              "      <td>...</td>\n",
              "      <td>...</td>\n",
              "      <td>...</td>\n",
              "      <td>...</td>\n",
              "      <td>...</td>\n",
              "      <td>...</td>\n",
              "      <td>...</td>\n",
              "      <td>...</td>\n",
              "      <td>...</td>\n",
              "      <td>...</td>\n",
              "      <td>...</td>\n",
              "      <td>...</td>\n",
              "      <td>...</td>\n",
              "      <td>...</td>\n",
              "      <td>...</td>\n",
              "      <td>...</td>\n",
              "      <td>...</td>\n",
              "    </tr>\n",
              "    <tr>\n",
              "      <th>17016</th>\n",
              "      <td>NaN</td>\n",
              "      <td>North America</td>\n",
              "      <td>2016</td>\n",
              "      <td>6471.360</td>\n",
              "      <td>11.353</td>\n",
              "      <td>309.904</td>\n",
              "      <td>70.858</td>\n",
              "      <td>0.124</td>\n",
              "      <td>1509.631</td>\n",
              "      <td>2.648</td>\n",
              "      <td>...</td>\n",
              "      <td>NaN</td>\n",
              "      <td>NaN</td>\n",
              "      <td>NaN</td>\n",
              "      <td>NaN</td>\n",
              "      <td>NaN</td>\n",
              "      <td>573814461.0</td>\n",
              "      <td>NaN</td>\n",
              "      <td>NaN</td>\n",
              "      <td>NaN</td>\n",
              "      <td>NaN</td>\n",
              "    </tr>\n",
              "    <tr>\n",
              "      <th>17017</th>\n",
              "      <td>NaN</td>\n",
              "      <td>North America</td>\n",
              "      <td>2017</td>\n",
              "      <td>6412.982</td>\n",
              "      <td>11.155</td>\n",
              "      <td>335.009</td>\n",
              "      <td>72.914</td>\n",
              "      <td>0.127</td>\n",
              "      <td>1467.602</td>\n",
              "      <td>2.553</td>\n",
              "      <td>...</td>\n",
              "      <td>NaN</td>\n",
              "      <td>NaN</td>\n",
              "      <td>NaN</td>\n",
              "      <td>NaN</td>\n",
              "      <td>NaN</td>\n",
              "      <td>578582963.0</td>\n",
              "      <td>NaN</td>\n",
              "      <td>NaN</td>\n",
              "      <td>NaN</td>\n",
              "      <td>NaN</td>\n",
              "    </tr>\n",
              "    <tr>\n",
              "      <th>17018</th>\n",
              "      <td>NaN</td>\n",
              "      <td>North America</td>\n",
              "      <td>2018</td>\n",
              "      <td>6588.630</td>\n",
              "      <td>11.366</td>\n",
              "      <td>345.915</td>\n",
              "      <td>74.787</td>\n",
              "      <td>0.129</td>\n",
              "      <td>1398.979</td>\n",
              "      <td>2.413</td>\n",
              "      <td>...</td>\n",
              "      <td>NaN</td>\n",
              "      <td>NaN</td>\n",
              "      <td>NaN</td>\n",
              "      <td>NaN</td>\n",
              "      <td>NaN</td>\n",
              "      <td>582921781.0</td>\n",
              "      <td>NaN</td>\n",
              "      <td>NaN</td>\n",
              "      <td>NaN</td>\n",
              "      <td>NaN</td>\n",
              "    </tr>\n",
              "    <tr>\n",
              "      <th>17019</th>\n",
              "      <td>NaN</td>\n",
              "      <td>North America</td>\n",
              "      <td>2019</td>\n",
              "      <td>6460.726</td>\n",
              "      <td>11.056</td>\n",
              "      <td>354.353</td>\n",
              "      <td>76.925</td>\n",
              "      <td>0.132</td>\n",
              "      <td>1214.329</td>\n",
              "      <td>2.078</td>\n",
              "      <td>...</td>\n",
              "      <td>NaN</td>\n",
              "      <td>NaN</td>\n",
              "      <td>NaN</td>\n",
              "      <td>NaN</td>\n",
              "      <td>NaN</td>\n",
              "      <td>587512621.0</td>\n",
              "      <td>NaN</td>\n",
              "      <td>NaN</td>\n",
              "      <td>NaN</td>\n",
              "      <td>NaN</td>\n",
              "    </tr>\n",
              "    <tr>\n",
              "      <th>17020</th>\n",
              "      <td>NaN</td>\n",
              "      <td>North America</td>\n",
              "      <td>2020</td>\n",
              "      <td>5775.159</td>\n",
              "      <td>9.805</td>\n",
              "      <td>NaN</td>\n",
              "      <td>76.870</td>\n",
              "      <td>0.130</td>\n",
              "      <td>965.430</td>\n",
              "      <td>1.639</td>\n",
              "      <td>...</td>\n",
              "      <td>NaN</td>\n",
              "      <td>NaN</td>\n",
              "      <td>NaN</td>\n",
              "      <td>NaN</td>\n",
              "      <td>NaN</td>\n",
              "      <td>592062319.0</td>\n",
              "      <td>NaN</td>\n",
              "      <td>NaN</td>\n",
              "      <td>NaN</td>\n",
              "      <td>NaN</td>\n",
              "    </tr>\n",
              "  </tbody>\n",
              "</table>\n",
              "<p>70 rows × 60 columns</p>\n",
              "</div>\n",
              "      <button class=\"colab-df-convert\" onclick=\"convertToInteractive('df-0b65de2f-921d-4cd1-8292-ea30eabf6ec1')\"\n",
              "              title=\"Convert this dataframe to an interactive table.\"\n",
              "              style=\"display:none;\">\n",
              "        \n",
              "  <svg xmlns=\"http://www.w3.org/2000/svg\" height=\"24px\"viewBox=\"0 0 24 24\"\n",
              "       width=\"24px\">\n",
              "    <path d=\"M0 0h24v24H0V0z\" fill=\"none\"/>\n",
              "    <path d=\"M18.56 5.44l.94 2.06.94-2.06 2.06-.94-2.06-.94-.94-2.06-.94 2.06-2.06.94zm-11 1L8.5 8.5l.94-2.06 2.06-.94-2.06-.94L8.5 2.5l-.94 2.06-2.06.94zm10 10l.94 2.06.94-2.06 2.06-.94-2.06-.94-.94-2.06-.94 2.06-2.06.94z\"/><path d=\"M17.41 7.96l-1.37-1.37c-.4-.4-.92-.59-1.43-.59-.52 0-1.04.2-1.43.59L10.3 9.45l-7.72 7.72c-.78.78-.78 2.05 0 2.83L4 21.41c.39.39.9.59 1.41.59.51 0 1.02-.2 1.41-.59l7.78-7.78 2.81-2.81c.8-.78.8-2.07 0-2.86zM5.41 20L4 18.59l7.72-7.72 1.47 1.35L5.41 20z\"/>\n",
              "  </svg>\n",
              "      </button>\n",
              "      \n",
              "  <style>\n",
              "    .colab-df-container {\n",
              "      display:flex;\n",
              "      flex-wrap:wrap;\n",
              "      gap: 12px;\n",
              "    }\n",
              "\n",
              "    .colab-df-convert {\n",
              "      background-color: #E8F0FE;\n",
              "      border: none;\n",
              "      border-radius: 50%;\n",
              "      cursor: pointer;\n",
              "      display: none;\n",
              "      fill: #1967D2;\n",
              "      height: 32px;\n",
              "      padding: 0 0 0 0;\n",
              "      width: 32px;\n",
              "    }\n",
              "\n",
              "    .colab-df-convert:hover {\n",
              "      background-color: #E2EBFA;\n",
              "      box-shadow: 0px 1px 2px rgba(60, 64, 67, 0.3), 0px 1px 3px 1px rgba(60, 64, 67, 0.15);\n",
              "      fill: #174EA6;\n",
              "    }\n",
              "\n",
              "    [theme=dark] .colab-df-convert {\n",
              "      background-color: #3B4455;\n",
              "      fill: #D2E3FC;\n",
              "    }\n",
              "\n",
              "    [theme=dark] .colab-df-convert:hover {\n",
              "      background-color: #434B5C;\n",
              "      box-shadow: 0px 1px 3px 1px rgba(0, 0, 0, 0.15);\n",
              "      filter: drop-shadow(0px 1px 2px rgba(0, 0, 0, 0.3));\n",
              "      fill: #FFFFFF;\n",
              "    }\n",
              "  </style>\n",
              "\n",
              "      <script>\n",
              "        const buttonEl =\n",
              "          document.querySelector('#df-0b65de2f-921d-4cd1-8292-ea30eabf6ec1 button.colab-df-convert');\n",
              "        buttonEl.style.display =\n",
              "          google.colab.kernel.accessAllowed ? 'block' : 'none';\n",
              "\n",
              "        async function convertToInteractive(key) {\n",
              "          const element = document.querySelector('#df-0b65de2f-921d-4cd1-8292-ea30eabf6ec1');\n",
              "          const dataTable =\n",
              "            await google.colab.kernel.invokeFunction('convertToInteractive',\n",
              "                                                     [key], {});\n",
              "          if (!dataTable) return;\n",
              "\n",
              "          const docLinkHtml = 'Like what you see? Visit the ' +\n",
              "            '<a target=\"_blank\" href=https://colab.research.google.com/notebooks/data_table.ipynb>data table notebook</a>'\n",
              "            + ' to learn more about interactive tables.';\n",
              "          element.innerHTML = '';\n",
              "          dataTable['output_type'] = 'display_data';\n",
              "          await google.colab.output.renderOutput(dataTable, element);\n",
              "          const docLink = document.createElement('div');\n",
              "          docLink.innerHTML = docLinkHtml;\n",
              "          element.appendChild(docLink);\n",
              "        }\n",
              "      </script>\n",
              "    </div>\n",
              "  </div>\n",
              "  "
            ]
          },
          "metadata": {},
          "execution_count": 11
        }
      ],
      "source": [
        "co2_data_cleaned = co2_data_copy.drop(range(17021,25989))\n",
        "co2_data_cleaned"
      ]
    },
    {
      "cell_type": "code",
      "source": [
        "#Lets visualize Total increase by Year:\n",
        "\n",
        "plt.xlabel('Years')\n",
        "\n",
        "plt.ylabel('Co2')\n",
        "\n",
        "plt.rcParams[\"figure.figsize\"] = [10,5]\n",
        "\n",
        "plt.title('Co2 emmisions by year')\n",
        "\n",
        "\n",
        "plt.plot(co2_data_cleaned[\"year\"],co2_data_cleaned[\"co2\"])"
      ],
      "metadata": {
        "colab": {
          "base_uri": "https://localhost:8080/",
          "height": 368
        },
        "id": "63PAtPJQPRfT",
        "outputId": "6ed554a8-edad-4d3b-ba81-72acf24767ae"
      },
      "id": "63PAtPJQPRfT",
      "execution_count": 13,
      "outputs": [
        {
          "output_type": "execute_result",
          "data": {
            "text/plain": [
              "[<matplotlib.lines.Line2D at 0x7f1abe64afd0>]"
            ]
          },
          "metadata": {},
          "execution_count": 13
        },
        {
          "output_type": "display_data",
          "data": {
            "text/plain": [
              "<Figure size 720x360 with 1 Axes>"
            ],
            "image/png": "[encoded data removed]"
          },
          "metadata": {
            "needs_background": "light"
          }
        }
      ]
    },
    {
      "cell_type": "code",
      "source": [
        "co2_data_cleaned.describe()"
      ],
      "metadata": {
        "id": "2pJ4yCkaQzQc"
      },
      "id": "2pJ4yCkaQzQc",
      "execution_count": null,
      "outputs": []
    },
    {
      "cell_type": "markdown",
      "source": [
        "## Making Predicitons\n"
      ],
      "metadata": {
        "id": "Vwfq8meHXukN"
      },
      "id": "Vwfq8meHXukN"
    },
    {
      "cell_type": "code",
      "source": [
        "#test and train split"
      ],
      "metadata": {
        "id": "Nv62jiy3RAjP"
      },
      "id": "Nv62jiy3RAjP",
      "execution_count": null,
      "outputs": []
    },
    {
      "cell_type": "code",
      "source": [
        "x = co2_data_cleaned['year']"
      ],
      "metadata": {
        "id": "Xxf0LquddvF8"
      },
      "id": "Xxf0LquddvF8",
      "execution_count": 14,
      "outputs": []
    },
    {
      "cell_type": "code",
      "source": [
        "y = co2_data_cleaned['co2']"
      ],
      "metadata": {
        "id": "OOcIgTYUfhLu"
      },
      "id": "OOcIgTYUfhLu",
      "execution_count": 15,
      "outputs": []
    },
    {
      "cell_type": "code",
      "source": [
        "# Training model in order to make predictions\n",
        "X_train,X_test,y_train,y_test = train_test_split(x.values.reshape(-1,1),y,test_size=.3)"
      ],
      "metadata": {
        "id": "t-OAdrkDYJHd"
      },
      "id": "t-OAdrkDYJHd",
      "execution_count": 16,
      "outputs": []
    },
    {
      "cell_type": "code",
      "source": [
        "print(X_train.shape,y_test.shape)"
      ],
      "metadata": {
        "colab": {
          "base_uri": "https://localhost:8080/",
          "height": 0
        },
        "id": "K3Nzjy7RZPyW",
        "outputId": "579e4f32-6b61-405c-abea-7ce32b84d01a"
      },
      "id": "K3Nzjy7RZPyW",
      "execution_count": 17,
      "outputs": [
        {
          "output_type": "stream",
          "name": "stdout",
          "text": [
            "(49, 1) (21,)\n"
          ]
        }
      ]
    },
    {
      "cell_type": "code",
      "source": [
        "y_train.head(10)"
      ],
      "metadata": {
        "colab": {
          "base_uri": "https://localhost:8080/",
          "height": 0
        },
        "id": "Z4nCktQWaugw",
        "outputId": "b6a34dd6-1ab0-4d00-bc8e-593e02d63adc"
      },
      "id": "Z4nCktQWaugw",
      "execution_count": 18,
      "outputs": [
        {
          "output_type": "execute_result",
          "data": {
            "text/plain": [
              "16979    5792.359\n",
              "16958    3022.679\n",
              "16969    4501.680\n",
              "16991    5932.717\n",
              "17008    7158.262\n",
              "16987    5656.467\n",
              "17017    6412.982\n",
              "16955    2966.226\n",
              "17020    5775.159\n",
              "16999    6861.782\n",
              "Name: co2, dtype: float64"
            ]
          },
          "metadata": {},
          "execution_count": 18
        }
      ]
    },
    {
      "cell_type": "code",
      "source": [
        "lr = LinearRegression()\n",
        "lr.fit(X_train,y_train)"
      ],
      "metadata": {
        "colab": {
          "base_uri": "https://localhost:8080/",
          "height": 0
        },
        "id": "asqwcUsaZYim",
        "outputId": "b992340d-ed87-4f23-dbcd-2dc1e771233d"
      },
      "id": "asqwcUsaZYim",
      "execution_count": 20,
      "outputs": [
        {
          "output_type": "execute_result",
          "data": {
            "text/plain": [
              "LinearRegression()"
            ]
          },
          "metadata": {},
          "execution_count": 20
        }
      ]
    },
    {
      "cell_type": "markdown",
      "source": [
        "# Making Predictions with the model"
      ],
      "metadata": {
        "id": "edbKGt2poM7-"
      },
      "id": "edbKGt2poM7-"
    },
    {
      "cell_type": "code",
      "source": [
        "#Plotting trained data with test results\n",
        "plt.xlabel('Years')\n",
        "plt.ylabel('Co2')\n",
        "plt.scatter(X_train,y_train,label = 'Training Data', color ='r', alpha=.7)\n",
        "plt.scatter(X_test,y_test,label = 'Testing Data', color ='g', alpha=.7)\n",
        "plt.legend()\n",
        "plt.title(\"Test train Split\")\n",
        "plt.show()"
      ],
      "metadata": {
        "colab": {
          "base_uri": "https://localhost:8080/",
          "height": 350
        },
        "id": "JdPQq-xnZiHO",
        "outputId": "7d86e6b8-d4ce-4bbe-905d-9bc870233dce"
      },
      "id": "JdPQq-xnZiHO",
      "execution_count": 21,
      "outputs": [
        {
          "output_type": "display_data",
          "data": {
            "text/plain": [
              "<Figure size 720x360 with 1 Axes>"
            ],
            "image/png": "[encoded data removed]"
          },
          "metadata": {
            "needs_background": "light"
          }
        }
      ]
    },
    {
      "cell_type": "markdown",
      "source": [
        "## Using the results from this model we can make predictions about possible Co2 levels in the future"
      ],
      "metadata": {
        "id": "fNHWmhn1srjf"
      },
      "id": "fNHWmhn1srjf"
    },
    {
      "cell_type": "code",
      "source": [
        "#Use model to predict on Test Data\n",
        "prediction = lr.predict(X_test)\n",
        "\n",
        "#Plot prediction line against actual test data\n",
        "plt.xlabel('Years')\n",
        "plt.ylabel('Co2')\n",
        "plt.plot(X_test,prediction,label='Linear Regression',color='b')\n",
        "plt.scatter(X_test,y_test,label='Actual test data',color='g',alpha=.7)\n",
        "plt.legend()"
      ],
      "metadata": {
        "colab": {
          "base_uri": "https://localhost:8080/",
          "height": 352
        },
        "id": "CWxnTOQfoBaZ",
        "outputId": "0ad651f1-77e8-4e74-fb94-7a5bbc8b09b6"
      },
      "id": "CWxnTOQfoBaZ",
      "execution_count": 22,
      "outputs": [
        {
          "output_type": "execute_result",
          "data": {
            "text/plain": [
              "<matplotlib.legend.Legend at 0x7f1abdb8d6d0>"
            ]
          },
          "metadata": {},
          "execution_count": 22
        },
        {
          "output_type": "display_data",
          "data": {
            "text/plain": [
              "<Figure size 720x360 with 1 Axes>"
            ],
            "image/png": "[encoded data removed]"
          },
          "metadata": {
            "needs_background": "light"
          }
        }
      ]
    },
    {
      "cell_type": "markdown",
      "source": [
        "### Here is a prediction for Co2 in 2025\n"
      ],
      "metadata": {
        "id": "pcD7uI2ss1gI"
      },
      "id": "pcD7uI2ss1gI"
    },
    {
      "cell_type": "code",
      "source": [
        "#Predict Co2 for 2025\n",
        "print(\"Co2 level in 2025 Prediction :\", lr.predict(np.array([[2025]]))[0])"
      ],
      "metadata": {
        "colab": {
          "base_uri": "https://localhost:8080/",
          "height": 0
        },
        "id": "QO9hiAPmpULJ",
        "outputId": "e7a49cd9-fcac-47e8-e467-5421fb493b1e"
      },
      "id": "QO9hiAPmpULJ",
      "execution_count": 23,
      "outputs": [
        {
          "output_type": "stream",
          "name": "stdout",
          "text": [
            "Co2 level in 2025 Prediction : 7874.4782506089105\n"
          ]
        }
      ]
    },
    {
      "cell_type": "code",
      "source": [
        "#Score the model\n",
        "print(\"Linear regression model score :\",lr.score(X_test,y_test))"
      ],
      "metadata": {
        "colab": {
          "base_uri": "https://localhost:8080/",
          "height": 0
        },
        "id": "5ztEGqI8sXyK",
        "outputId": "50295c6b-422c-4206-c8c8-78eb605756d1"
      },
      "id": "5ztEGqI8sXyK",
      "execution_count": 24,
      "outputs": [
        {
          "output_type": "stream",
          "name": "stdout",
          "text": [
            "Linear regression model score : 0.8770192480245305\n"
          ]
        }
      ]
    },
    {
      "cell_type": "markdown",
      "source": [
        "## Due to outliers during Covid-19 Co2 emmisions decresed in 2019-2020"
      ],
      "metadata": {
        "id": "Jgg7IHlY6NCw"
      },
      "id": "Jgg7IHlY6NCw"
    },
    {
      "cell_type": "code",
      "source": [
        "#Now comparing predicted values to actual test values\n",
        "print(\"Co2 level in 2019 Prediction :\", lr.predict(np.array([[2019]]))[0])\n",
        "print(\"Co2 level in 2019 :\",co2_data_cleaned['co2'].iloc[68])"
      ],
      "metadata": {
        "colab": {
          "base_uri": "https://localhost:8080/",
          "height": 0
        },
        "id": "N4ESC5WT5qU4",
        "outputId": "da8d541e-e791-46b2-c70e-d8ada722d81d"
      },
      "id": "N4ESC5WT5qU4",
      "execution_count": 25,
      "outputs": [
        {
          "output_type": "stream",
          "name": "stdout",
          "text": [
            "Co2 level in 2019 Prediction : 7514.097996714016\n",
            "Co2 level in 2019 : 6460.726\n"
          ]
        }
      ]
    },
    {
      "cell_type": "markdown",
      "source": [
        "## This prediction shows an accurate reading of the data in 2010"
      ],
      "metadata": {
        "id": "xSUT5wDO6Wue"
      },
      "id": "xSUT5wDO6Wue"
    },
    {
      "cell_type": "code",
      "source": [
        "\n",
        "print(\"Co2 level in 2010 Prediction :\", lr.predict(np.array([[2010]]))[0])\n",
        "print(\"Co2 level in 2010 :\",co2_data_cleaned['co2'].iloc[59])"
      ],
      "metadata": {
        "colab": {
          "base_uri": "https://localhost:8080/",
          "height": 0
        },
        "id": "eQsEQtobtgq1",
        "outputId": "3e3b5354-6b81-481a-badf-cb1924184cc2"
      },
      "id": "eQsEQtobtgq1",
      "execution_count": 26,
      "outputs": [
        {
          "output_type": "stream",
          "name": "stdout",
          "text": [
            "Co2 level in 2010 Prediction : 6973.527615871673\n",
            "Co2 level in 2010 : 6875.767\n"
          ]
        }
      ]
    },
    {
      "cell_type": "markdown",
      "source": [
        "## As more historical data is tested the correlation is weaker"
      ],
      "metadata": {
        "id": "eRaVkK3G6c6_"
      },
      "id": "eRaVkK3G6c6_"
    },
    {
      "cell_type": "code",
      "source": [
        "print(\"Co2 level in 2005 Prediction :\", lr.predict(np.array([[2005]]))[0])\n",
        "print(\"Co2 level in 2005 :\",co2_data_cleaned['co2'].iloc[54])"
      ],
      "metadata": {
        "colab": {
          "base_uri": "https://localhost:8080/",
          "height": 0
        },
        "id": "70RuSdF72dkT",
        "outputId": "3ed9a179-7c38-44d7-be46-bdb1019df60f"
      },
      "id": "70RuSdF72dkT",
      "execution_count": 27,
      "outputs": [
        {
          "output_type": "stream",
          "name": "stdout",
          "text": [
            "Co2 level in 2005 Prediction : 6673.210737625923\n",
            "Co2 level in 2005 : 7330.253\n"
          ]
        }
      ]
    },
    {
      "cell_type": "code",
      "source": [
        "print(\"Co2 level in 2000 Prediction :\", lr.predict(np.array([[2000]]))[0])\n",
        "print(\"Co2 level in 2000 :\",co2_data_cleaned['co2'].iloc[49])"
      ],
      "metadata": {
        "colab": {
          "base_uri": "https://localhost:8080/",
          "height": 0
        },
        "id": "qXomLvU35f82",
        "outputId": "16028f1a-aa72-4d80-8108-26be7f8cdcba"
      },
      "id": "qXomLvU35f82",
      "execution_count": 28,
      "outputs": [
        {
          "output_type": "stream",
          "name": "stdout",
          "text": [
            "Co2 level in 2000 Prediction : 6372.893859380172\n",
            "Co2 level in 2000 : 7107.692\n"
          ]
        }
      ]
    },
    {
      "cell_type": "code",
      "source": [
        "print(\"Co2 level in 1980 Prediction :\", lr.predict(np.array([[1980]]))[0])\n",
        "print(\"Co2 level in 1980 :\",co2_data_cleaned['co2'].iloc[29])"
      ],
      "metadata": {
        "colab": {
          "base_uri": "https://localhost:8080/",
          "height": 0
        },
        "id": "NMWrBiwB5-P9",
        "outputId": "f057dcbe-a6e1-4458-a1f4-b4e436e376e9"
      },
      "id": "NMWrBiwB5-P9",
      "execution_count": 29,
      "outputs": [
        {
          "output_type": "stream",
          "name": "stdout",
          "text": [
            "Co2 level in 1980 Prediction : 5171.6263463971845\n",
            "Co2 level in 1980 : 5621.038\n"
          ]
        }
      ]
    },
    {
      "cell_type": "markdown",
      "source": [
        "# Conclusion"
      ],
      "metadata": {
        "id": "TIReAy_264Z3"
      },
      "id": "TIReAy_264Z3"
    },
    {
      "cell_type": "markdown",
      "source": [
        "### Given this score this model shows a high degree of accuracy, the results show that this model can be used to reliably predict future Co2 emmisions. After testing the model against historical data it shows that it is relativly accurate at predicting Co2 levels with a slight deviation from actual test data. "
      ],
      "metadata": {
        "id": "e1oh7l2wvGio"
      },
      "id": "e1oh7l2wvGio"
    },
    {
      "cell_type": "code",
      "source": [
        "#Score the model\n",
        "print(\"Linear regression model score :\",lr.score(X_test,y_test))"
      ],
      "metadata": {
        "id": "vvUfGiqckmSA"
      },
      "execution_count": null,
      "outputs": [],
      "id": "vvUfGiqckmSA"
    }
  ],
  "metadata": {
    "kernelspec": {
      "display_name": "conda_python3",
      "language": "python",
      "name": "conda_python3"
    },
    "language_info": {
      "codemirror_mode": {
        "name": "ipython",
        "version": 3
      },
      "file_extension": ".py",
      "mimetype": "text/x-python",
      "name": "python",
      "nbconvert_exporter": "python",
      "pygments_lexer": "ipython3",
      "version": "3.6.13"
    },
    "colab": {
      "name": "CSC4001 Project.ipynb",
      "provenance": [],
      "collapsed_sections": []
    }
  },
  "nbformat": 4,
  "nbformat_minor": 5
}